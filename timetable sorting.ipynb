{
 "cells": [
  {
   "cell_type": "markdown",
   "metadata": {
    "id": "qO0SOmTkvKcy"
   },
   "source": [
    "#Question 2"
   ]
  },
  {
   "cell_type": "code",
   "execution_count": 1,
   "metadata": {
    "id": "kKEAkys3BcL-"
   },
   "outputs": [
    {
     "name": "stdout",
     "output_type": "stream",
     "text": [
      "<PIL.Image.Image image mode=RGB size=549x548 at 0x23514C980D0>\n"
     ]
    }
   ],
   "source": [
    "from PIL import Image\n",
    "import numpy as np\n",
    "from IPython.display import display\n",
    "\n",
    "\n",
    "# Load the image\n",
    "img = Image.open('test.jpg')  \n",
    "\n",
    "# Convert the image to a NumPy array\n",
    "img_array = np.array(img)\n",
    "\n",
    "# Get the height and width of the image\n",
    "height = img_array.shape[0]\n",
    "width = img_array.shape[1]\n",
    "\n",
    "img_array = np.array(img)\n",
    "img_array.shape\n",
    "\n",
    "\"\"\" The RGB Values of the first Pixel \"\"\"\n",
    "img_array[0][0]\n",
    "\n",
    "\"\"\" You can use the height and width variables in your code to get the rows and columns of pixels in the image \"\"\"\n",
    "height = img_array.shape[0]\n",
    "width = img_array.shape[1]\n",
    "height,width\n",
    "\n",
    "\n",
    "for i in range(width):\n",
    "    for j in range(height):\n",
    "        if (img_array[j, i, 0] < 120 and img_array[j, i, 1] < 120 and img_array[j, i, 2] < 120):\n",
    "            img_array[j, i, 0] = 255\n",
    "            img_array[j, i, 1] = 255\n",
    "            img_array[j, i, 2] = 255\n",
    "        else:\n",
    "            img_array[j, i, 0] = 255\n",
    "            img_array[j, i, 1] = 255\n",
    "            img_array[j, i, 2] = 0\n",
    "\n",
    "modified_img = Image.fromarray(img_array)\n",
    "\n",
    "print (modified_img)\n",
    "modified_img.show()    "
   ]
  },
  {
   "cell_type": "markdown",
   "metadata": {
    "id": "FAJjIe-hvOC5"
   },
   "source": [
    "#Question 3"
   ]
  },
  {
   "cell_type": "code",
   "execution_count": 1,
   "metadata": {},
   "outputs": [],
   "source": [
    "import pandas as pd"
   ]
  },
  {
   "cell_type": "code",
   "execution_count": 3,
   "metadata": {
    "id": "3eLUC_mlvPlh"
   },
   "outputs": [
    {
     "name": "stdout",
     "output_type": "stream",
     "text": [
      "          Room       Day        Course Section    Type         Time\n",
      "0        C-304    Monday            PF    CS-D  Theory  10:00-11:20\n",
      "1        C-304    Monday            AP    CS-D  Theory  11:30-12:50\n",
      "2        C-304    Monday      Automata    CS-E  Theory  01:00-02:20\n",
      "3        C-304    Monday            AP    CS-C  Theory  02:30-03:50\n",
      "4        C-305    Monday           TBW  CS-F/H  Theory  10:00-11:20\n",
      "..         ...       ...           ...     ...     ...          ...\n",
      "542   A-CALL-1  Thursday  Func Eng Lab   CS-C1  Theory  02:30-03:50\n",
      "543   A-CALL-2  Thursday  Func Eng Lab   CS-A2  Theory  11:30-12:50\n",
      "544   A-CALL-2  Thursday  Func Eng Lab   CS-C2  Theory  02:30-03:50\n",
      "545  B-Digital  Thursday       DLD Lab    AI-C  Theory  11:30-12:50\n",
      "546  B-Digital  Thursday       DLD Lab    CY-A  Theory  02:30-03:50\n",
      "\n",
      "[547 rows x 6 columns]\n"
     ]
    }
   ],
   "source": [
    "\n",
    "\n",
    "# Load the Excel file\n",
    "file = pd.ExcelFile(\"TimeTable.xlsx\", engine='openpyxl')\n",
    "\n",
    "# Create an empty list to store data dictionaries\n",
    "all_data_dicts = []\n",
    "\n",
    "# Iterate through each sheet in the Excel file\n",
    "for sheet_name in file.sheet_names:\n",
    "\n",
    "    # Read the sheet into a DataFrame, starting from the 4th row\n",
    "    df = pd.read_excel(file, sheet_name, header=None, skiprows=4)\n",
    "\n",
    "    # Extract the day from the sheet name\n",
    "    day = sheet_name\n",
    "\n",
    "    # Extract the time from the 0th row\n",
    "    time_row = df.iloc[0, :]\n",
    "\n",
    "    # Iterate through the rows and columns of the DataFrame\n",
    "    for i in range(4, len(df)):\n",
    "        room = df.iloc[i, 0]\n",
    "\n",
    "        # Iterate through the columns starting from the 2nd column\n",
    "        for j in range(2, len(df.columns)):\n",
    "            cell_value = str(df.iloc[i, j])\n",
    "\n",
    "            # Check if the cell is not empty\n",
    "            if cell_value.strip() != '':\n",
    "                # Use error handling to avoid IndexError\n",
    "                try:\n",
    "                    # Get the class time from the time_row at the same column index\n",
    "                    class_time = time_row[j]\n",
    "\n",
    "                    course_info = cell_value.split('(')[0].strip()\n",
    "                    index_info = cell_value.split('(')[1].split(')')[0].strip()\n",
    "                    type_info = 'Theory'\n",
    "                    batch_info = cell_value.split('(')[1].split(')')[1].strip()\n",
    "\n",
    "                    # Create a dictionary for the class data\n",
    "                    class_dict = {\n",
    "                        'Room': room,\n",
    "                        'Day': day,\n",
    "                        'Course': course_info,\n",
    "                        'Section': index_info,\n",
    "                        'Type': type_info,\n",
    "                        'Time': class_time,\n",
    "                    }\n",
    "                    all_data_dicts.append(class_dict)\n",
    "                except IndexError:\n",
    "                    # Handle cases where the cell doesn't have the expected format\n",
    "                    pass\n",
    "\n",
    "# Create the final DataFrame from the list of dictionaries\n",
    "final_df = pd.DataFrame(all_data_dicts)\n",
    "\n",
    "# Print the resulting DataFrame\n",
    "print(final_df)"
   ]
  },
  {
   "cell_type": "code",
   "execution_count": null,
   "metadata": {},
   "outputs": [],
   "source": []
  },
  {
   "cell_type": "code",
   "execution_count": null,
   "metadata": {
    "id": "C9EcPBgdv3ku"
   },
   "outputs": [],
   "source": []
  }
 ],
 "metadata": {
  "colab": {
   "provenance": []
  },
  "kernelspec": {
   "display_name": "Python 3 (ipykernel)",
   "language": "python",
   "name": "python3"
  },
  "language_info": {
   "codemirror_mode": {
    "name": "ipython",
    "version": 3
   },
   "file_extension": ".py",
   "mimetype": "text/x-python",
   "name": "python",
   "nbconvert_exporter": "python",
   "pygments_lexer": "ipython3",
   "version": "3.11.9"
  }
 },
 "nbformat": 4,
 "nbformat_minor": 4
}
